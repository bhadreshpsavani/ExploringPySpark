{
 "cells": [
  {
   "cell_type": "code",
   "execution_count": 1,
   "id": "40967c3d-c01b-4a32-801c-0d6eb941267b",
   "metadata": {},
   "outputs": [
    {
     "name": "stdout",
     "output_type": "stream",
     "text": [
      "22/10/30 14:12:30 WARN Utils: Your hostname, tuf-ubu resolves to a loopback address: 127.0.1.1; using 192.168.29.14 instead (on interface enp4s0)\n",
      "22/10/30 14:12:30 WARN Utils: Set SPARK_LOCAL_IP if you need to bind to another address\n"
     ]
    },
    {
     "name": "stderr",
     "output_type": "stream",
     "text": [
      "Setting default log level to \"WARN\".\n",
      "To adjust logging level use sc.setLogLevel(newLevel). For SparkR, use setLogLevel(newLevel).\n"
     ]
    },
    {
     "name": "stdout",
     "output_type": "stream",
     "text": [
      "22/10/30 14:12:31 WARN NativeCodeLoader: Unable to load native-hadoop library for your platform... using builtin-java classes where applicable\n",
      "22/10/30 14:12:32 WARN Utils: Service 'SparkUI' could not bind on port 4040. Attempting port 4041.\n",
      "22/10/30 14:12:32 WARN Utils: Service 'SparkUI' could not bind on port 4041. Attempting port 4042.\n"
     ]
    }
   ],
   "source": [
    "from pyspark.sql import SparkSession\n",
    "spark = SparkSession.builder.appName('Practice').getOrCreate()"
   ]
  },
  {
   "cell_type": "code",
   "execution_count": 4,
   "id": "b0b109cc-349c-4450-8d75-c09318c30142",
   "metadata": {},
   "outputs": [],
   "source": [
    "df_pyspark = spark.read.csv('test3.csv', header=True, inferSchema=True)"
   ]
  },
  {
   "cell_type": "markdown",
   "id": "775aa583-b014-4a13-adcf-f7756c40e163",
   "metadata": {},
   "source": [
    "## Filter Operation"
   ]
  },
  {
   "cell_type": "code",
   "execution_count": 6,
   "id": "e5092acb-8cbd-43a5-a99c-4319dc4d707b",
   "metadata": {},
   "outputs": [
    {
     "name": "stdout",
     "output_type": "stream",
     "text": [
      "+----------+---+----------+------+\n",
      "|      Name|Age|Experience|Salary|\n",
      "+----------+---+----------+------+\n",
      "|  Rekhaben| 55|        34|     0|\n",
      "|Premjibhai| 54|        32|     0|\n",
      "+----------+---+----------+------+\n",
      "\n"
     ]
    }
   ],
   "source": [
    "df_pyspark.filter('Salary<=20000').show()"
   ]
  },
  {
   "cell_type": "code",
   "execution_count": 8,
   "id": "0f45b370-8739-4609-b76d-eea486d626b7",
   "metadata": {},
   "outputs": [
    {
     "name": "stdout",
     "output_type": "stream",
     "text": [
      "+----------+---+\n",
      "|      Name|Age|\n",
      "+----------+---+\n",
      "|  Rekhaben| 55|\n",
      "|Premjibhai| 54|\n",
      "+----------+---+\n",
      "\n"
     ]
    }
   ],
   "source": [
    "df_pyspark.filter(\n",
    "    'Salary<=20000').select(\n",
    "    ['Name', 'Age']).show()"
   ]
  },
  {
   "cell_type": "code",
   "execution_count": 9,
   "id": "72b48c28-1fe6-4a4f-b972-160ddf37a903",
   "metadata": {},
   "outputs": [
    {
     "name": "stdout",
     "output_type": "stream",
     "text": [
      "+----------+---+\n",
      "|      Name|Age|\n",
      "+----------+---+\n",
      "|  Rekhaben| 55|\n",
      "|Premjibhai| 54|\n",
      "+----------+---+\n",
      "\n"
     ]
    }
   ],
   "source": [
    "df_pyspark.filter(\n",
    "    df_pyspark['Salary']<=20000).select(\n",
    "    ['Name', 'Age']).show()"
   ]
  },
  {
   "cell_type": "code",
   "execution_count": 11,
   "id": "32e7f2c4-4d0f-4843-8fb2-604aa4cdf308",
   "metadata": {},
   "outputs": [
    {
     "name": "stdout",
     "output_type": "stream",
     "text": [
      "+--------+---+\n",
      "|    Name|Age|\n",
      "+--------+---+\n",
      "|Rekhaben| 55|\n",
      "+--------+---+\n",
      "\n"
     ]
    }
   ],
   "source": [
    "df_pyspark.filter(\n",
    "    (df_pyspark['Salary']<=20000) &\n",
    "    (df_pyspark['Age']>=55)\n",
    ").select(\n",
    "    ['Name', 'Age']).show()"
   ]
  },
  {
   "cell_type": "code",
   "execution_count": null,
   "id": "ebf5ca16-d8d8-46fa-9981-a0cebc0b950c",
   "metadata": {},
   "outputs": [],
   "source": []
  }
 ],
 "metadata": {
  "kernelspec": {
   "display_name": "Python 3 (ipykernel)",
   "language": "python",
   "name": "python3"
  },
  "language_info": {
   "codemirror_mode": {
    "name": "ipython",
    "version": 3
   },
   "file_extension": ".py",
   "mimetype": "text/x-python",
   "name": "python",
   "nbconvert_exporter": "python",
   "pygments_lexer": "ipython3",
   "version": "3.10.6"
  }
 },
 "nbformat": 4,
 "nbformat_minor": 5
}
