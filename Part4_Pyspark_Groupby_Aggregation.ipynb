{
 "cells": [
  {
   "cell_type": "code",
   "execution_count": 1,
   "id": "4eb6681c-60c6-4076-a477-6c91ece39fcd",
   "metadata": {},
   "outputs": [
    {
     "name": "stdout",
     "output_type": "stream",
     "text": [
      "22/10/30 15:29:07 WARN Utils: Your hostname, tuf-ubu resolves to a loopback address: 127.0.1.1; using 192.168.29.14 instead (on interface enp4s0)\n",
      "22/10/30 15:29:07 WARN Utils: Set SPARK_LOCAL_IP if you need to bind to another address\n"
     ]
    },
    {
     "name": "stderr",
     "output_type": "stream",
     "text": [
      "Setting default log level to \"WARN\".\n",
      "To adjust logging level use sc.setLogLevel(newLevel). For SparkR, use setLogLevel(newLevel).\n"
     ]
    },
    {
     "name": "stdout",
     "output_type": "stream",
     "text": [
      "22/10/30 15:29:07 WARN NativeCodeLoader: Unable to load native-hadoop library for your platform... using builtin-java classes where applicable\n",
      "22/10/30 15:29:08 WARN Utils: Service 'SparkUI' could not bind on port 4040. Attempting port 4041.\n",
      "22/10/30 15:29:08 WARN Utils: Service 'SparkUI' could not bind on port 4041. Attempting port 4042.\n",
      "22/10/30 15:29:08 WARN Utils: Service 'SparkUI' could not bind on port 4042. Attempting port 4043.\n"
     ]
    }
   ],
   "source": [
    "from pyspark.sql import SparkSession\n",
    "spark = SparkSession.builder.appName('Practice').getOrCreate()"
   ]
  },
  {
   "cell_type": "code",
   "execution_count": 8,
   "id": "9b6a9aa9-6a8c-4aa7-8d33-1b5798091277",
   "metadata": {},
   "outputs": [],
   "source": [
    "df_pyspark = spark.read.csv('test4.csv', header=True, inferSchema=True)"
   ]
  },
  {
   "cell_type": "code",
   "execution_count": 9,
   "id": "cb69a4d8-c001-4634-8ad2-53e6a716e608",
   "metadata": {},
   "outputs": [
    {
     "name": "stdout",
     "output_type": "stream",
     "text": [
      "+--------+----------+------+\n",
      "|    Name|Department|Salary|\n",
      "+--------+----------+------+\n",
      "|Bhadresh|        ML|150000|\n",
      "|   Mayur|Full Stack|100000|\n",
      "|Abhishek|Full Stack|150000|\n",
      "|   Harsh|        ML|200000|\n",
      "|Jankhana|      Data|150000|\n",
      "|Bhadresh|      Data|120000|\n",
      "|  Shreya|   Support| 20000|\n",
      "|  Dhaval|        ML|300000|\n",
      "+--------+----------+------+\n",
      "\n"
     ]
    }
   ],
   "source": [
    "df_pyspark.show()"
   ]
  },
  {
   "cell_type": "code",
   "execution_count": 10,
   "id": "84fc252d-428b-4d46-8792-d0a58bd59587",
   "metadata": {},
   "outputs": [
    {
     "name": "stdout",
     "output_type": "stream",
     "text": [
      "+--------+-----------+\n",
      "|    Name|sum(Salary)|\n",
      "+--------+-----------+\n",
      "|Abhishek|     150000|\n",
      "|Bhadresh|     270000|\n",
      "|Jankhana|     150000|\n",
      "|  Shreya|      20000|\n",
      "|   Mayur|     100000|\n",
      "|  Dhaval|     300000|\n",
      "|   Harsh|     200000|\n",
      "+--------+-----------+\n",
      "\n"
     ]
    }
   ],
   "source": [
    "df_pyspark.groupBy('Name').sum().show()"
   ]
  },
  {
   "cell_type": "code",
   "execution_count": 12,
   "id": "c120a9bf-06e4-4ae4-967f-c07d37251f95",
   "metadata": {},
   "outputs": [
    {
     "name": "stdout",
     "output_type": "stream",
     "text": [
      "+----------+------------------+\n",
      "|Department|       avg(Salary)|\n",
      "+----------+------------------+\n",
      "|      Data|          135000.0|\n",
      "|Full Stack|          125000.0|\n",
      "|   Support|           20000.0|\n",
      "|        ML|216666.66666666666|\n",
      "+----------+------------------+\n",
      "\n"
     ]
    }
   ],
   "source": [
    "df_pyspark.groupBy('Department').mean().show()"
   ]
  },
  {
   "cell_type": "code",
   "execution_count": 13,
   "id": "236e31cb-7dc7-422f-8274-53efe57b597d",
   "metadata": {},
   "outputs": [
    {
     "name": "stdout",
     "output_type": "stream",
     "text": [
      "+----------+-----+\n",
      "|Department|count|\n",
      "+----------+-----+\n",
      "|      Data|    2|\n",
      "|Full Stack|    2|\n",
      "|   Support|    1|\n",
      "|        ML|    3|\n",
      "+----------+-----+\n",
      "\n"
     ]
    }
   ],
   "source": [
    "df_pyspark.groupBy('Department').count().show()"
   ]
  },
  {
   "cell_type": "code",
   "execution_count": 14,
   "id": "7e574829-41d6-4f3f-bb7d-6a948eabf9fa",
   "metadata": {},
   "outputs": [
    {
     "name": "stdout",
     "output_type": "stream",
     "text": [
      "+-----------+\n",
      "|sum(Salary)|\n",
      "+-----------+\n",
      "|    1190000|\n",
      "+-----------+\n",
      "\n"
     ]
    }
   ],
   "source": [
    "df_pyspark.agg({'Salary': 'sum'}).show()"
   ]
  },
  {
   "cell_type": "code",
   "execution_count": 16,
   "id": "c58d2a7b-5a3b-483e-8791-c3d03087e73f",
   "metadata": {},
   "outputs": [
    {
     "name": "stdout",
     "output_type": "stream",
     "text": [
      "+----------+-----------+\n",
      "|Department|min(Salary)|\n",
      "+----------+-----------+\n",
      "|      Data|     120000|\n",
      "|Full Stack|     100000|\n",
      "|   Support|      20000|\n",
      "|        ML|     150000|\n",
      "+----------+-----------+\n",
      "\n",
      "22/10/30 17:19:30 WARN HeartbeatReceiver: Removing executor driver with no recent heartbeats: 136860 ms exceeds timeout 120000 ms\n",
      "22/10/30 17:19:30 WARN SparkContext: Killing executors is not supported by current scheduler.\n"
     ]
    }
   ],
   "source": [
    "df_pyspark.groupBy('Department').min().show()"
   ]
  },
  {
   "cell_type": "code",
   "execution_count": null,
   "id": "b86d02b7-2d80-4e32-b763-f42f8eb0f89e",
   "metadata": {},
   "outputs": [],
   "source": []
  }
 ],
 "metadata": {
  "kernelspec": {
   "display_name": "Python 3 (ipykernel)",
   "language": "python",
   "name": "python3"
  },
  "language_info": {
   "codemirror_mode": {
    "name": "ipython",
    "version": 3
   },
   "file_extension": ".py",
   "mimetype": "text/x-python",
   "name": "python",
   "nbconvert_exporter": "python",
   "pygments_lexer": "ipython3",
   "version": "3.10.6"
  }
 },
 "nbformat": 4,
 "nbformat_minor": 5
}
