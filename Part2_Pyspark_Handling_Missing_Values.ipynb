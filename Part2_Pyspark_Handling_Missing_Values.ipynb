{
 "cells": [
  {
   "cell_type": "code",
   "execution_count": 1,
   "id": "5b02280d-8c6e-45e4-8a09-9cbef5fe65f0",
   "metadata": {},
   "outputs": [],
   "source": [
    "from pyspark.sql import SparkSession"
   ]
  },
  {
   "cell_type": "code",
   "execution_count": 2,
   "id": "72592017-28fe-49b1-b37d-de0f4691beb5",
   "metadata": {},
   "outputs": [
    {
     "name": "stdout",
     "output_type": "stream",
     "text": [
      "22/10/30 13:54:08 WARN Utils: Your hostname, tuf-ubu resolves to a loopback address: 127.0.1.1; using 192.168.29.14 instead (on interface enp4s0)\n",
      "22/10/30 13:54:08 WARN Utils: Set SPARK_LOCAL_IP if you need to bind to another address\n"
     ]
    },
    {
     "name": "stderr",
     "output_type": "stream",
     "text": [
      "Setting default log level to \"WARN\".\n",
      "To adjust logging level use sc.setLogLevel(newLevel). For SparkR, use setLogLevel(newLevel).\n"
     ]
    },
    {
     "name": "stdout",
     "output_type": "stream",
     "text": [
      "22/10/30 13:54:09 WARN NativeCodeLoader: Unable to load native-hadoop library for your platform... using builtin-java classes where applicable\n",
      "22/10/30 13:54:10 WARN Utils: Service 'SparkUI' could not bind on port 4040. Attempting port 4041.\n"
     ]
    }
   ],
   "source": [
    "spark = SparkSession.builder.appName('Practice').getOrCreate()"
   ]
  },
  {
   "cell_type": "code",
   "execution_count": 11,
   "id": "2a48636f-72a0-4343-b332-ccf015f02b6e",
   "metadata": {},
   "outputs": [],
   "source": [
    "df_pyspark = spark.read.csv('test2.csv', header=True, inferSchema=True)"
   ]
  },
  {
   "cell_type": "code",
   "execution_count": 12,
   "id": "ea5ae0d0-9d42-4b49-b3d2-bd8f8facae4b",
   "metadata": {},
   "outputs": [
    {
     "name": "stdout",
     "output_type": "stream",
     "text": [
      "+----------+----+----------+------+\n",
      "|      Name| Age|Experience|Salary|\n",
      "+----------+----+----------+------+\n",
      "|  Bhadresh|  25|         4|150000|\n",
      "|     Jinsi|  24|         4| 75000|\n",
      "|  Rekhaben|  55|        34|     0|\n",
      "|Premjibhai|  54|        32|     0|\n",
      "|  Axitaben|  27|      null| 35000|\n",
      "|Kishanjiju|null|      null|  null|\n",
      "+----------+----+----------+------+\n",
      "\n"
     ]
    }
   ],
   "source": [
    "df_pyspark.show()"
   ]
  },
  {
   "cell_type": "code",
   "execution_count": 13,
   "id": "aea94cc5-98e2-4c9e-9e82-8fa884ac5f84",
   "metadata": {},
   "outputs": [
    {
     "name": "stdout",
     "output_type": "stream",
     "text": [
      "+----------+----------+------+\n",
      "|      Name|Experience|Salary|\n",
      "+----------+----------+------+\n",
      "|  Bhadresh|         4|150000|\n",
      "|     Jinsi|         4| 75000|\n",
      "|  Rekhaben|        34|     0|\n",
      "|Premjibhai|        32|     0|\n",
      "|  Axitaben|      null| 35000|\n",
      "|Kishanjiju|      null|  null|\n",
      "+----------+----------+------+\n",
      "\n"
     ]
    }
   ],
   "source": [
    "df_pyspark.drop('Age').show()"
   ]
  },
  {
   "cell_type": "code",
   "execution_count": 15,
   "id": "d7f84448-fcce-47f3-9765-14c5f5065d99",
   "metadata": {},
   "outputs": [
    {
     "name": "stdout",
     "output_type": "stream",
     "text": [
      "+----------+---+----------+------+\n",
      "|      Name|Age|Experience|Salary|\n",
      "+----------+---+----------+------+\n",
      "|  Bhadresh| 25|         4|150000|\n",
      "|     Jinsi| 24|         4| 75000|\n",
      "|  Rekhaben| 55|        34|     0|\n",
      "|Premjibhai| 54|        32|     0|\n",
      "+----------+---+----------+------+\n",
      "\n"
     ]
    }
   ],
   "source": [
    "df_pyspark.na.drop().show()"
   ]
  },
  {
   "cell_type": "code",
   "execution_count": 21,
   "id": "92986612-f7c1-4831-b6b5-f2b334136ea0",
   "metadata": {},
   "outputs": [
    {
     "name": "stdout",
     "output_type": "stream",
     "text": [
      "+----------+---+----------+------+\n",
      "|      Name|Age|Experience|Salary|\n",
      "+----------+---+----------+------+\n",
      "|  Bhadresh| 25|         4|150000|\n",
      "|     Jinsi| 24|         4| 75000|\n",
      "|  Rekhaben| 55|        34|     0|\n",
      "|Premjibhai| 54|        32|     0|\n",
      "|  Axitaben| 27|      null| 35000|\n",
      "+----------+---+----------+------+\n",
      "\n"
     ]
    }
   ],
   "source": [
    "df_pyspark.na.drop(how='any', thresh=3).show()"
   ]
  },
  {
   "cell_type": "code",
   "execution_count": 22,
   "id": "a744b05c-3f93-44d8-9fb4-4826dc3374d5",
   "metadata": {},
   "outputs": [
    {
     "name": "stdout",
     "output_type": "stream",
     "text": [
      "+----------+---+----------+------+\n",
      "|      Name|Age|Experience|Salary|\n",
      "+----------+---+----------+------+\n",
      "|  Bhadresh| 25|         4|150000|\n",
      "|     Jinsi| 24|         4| 75000|\n",
      "|  Rekhaben| 55|        34|     0|\n",
      "|Premjibhai| 54|        32|     0|\n",
      "|  Axitaben| 27|      null| 35000|\n",
      "+----------+---+----------+------+\n",
      "\n"
     ]
    }
   ],
   "source": [
    "## Subset\n",
    "df_pyspark.na.drop(how='any', subset=['Salary']).show()"
   ]
  },
  {
   "cell_type": "code",
   "execution_count": 28,
   "id": "7a77da4e-fc90-4be5-98b2-0c2563d89898",
   "metadata": {},
   "outputs": [
    {
     "name": "stdout",
     "output_type": "stream",
     "text": [
      "+----------+---+----------+------+\n",
      "|      Name|Age|Experience|Salary|\n",
      "+----------+---+----------+------+\n",
      "|  Bhadresh| 25|         4|150000|\n",
      "|     Jinsi| 24|         4| 75000|\n",
      "|  Rekhaben| 55|        34|     0|\n",
      "|Premjibhai| 54|        32|     0|\n",
      "|  Axitaben| 27|        50| 35000|\n",
      "|Kishanjiju| 50|        50|    50|\n",
      "+----------+---+----------+------+\n",
      "\n"
     ]
    }
   ],
   "source": [
    "df_pyspark.na.fill(50).show()"
   ]
  },
  {
   "cell_type": "code",
   "execution_count": 27,
   "id": "5b0de5d0-e46b-471d-9c9d-976dc3bc6b27",
   "metadata": {},
   "outputs": [
    {
     "name": "stdout",
     "output_type": "stream",
     "text": [
      "+----------+----+----------+------+\n",
      "|      Name| Age|Experience|Salary|\n",
      "+----------+----+----------+------+\n",
      "|  Bhadresh|  25|         4|150000|\n",
      "|     Jinsi|  24|         4| 75000|\n",
      "|  Rekhaben|  55|        34|     0|\n",
      "|Premjibhai|  54|        32|     0|\n",
      "|  Axitaben|  27|        50| 35000|\n",
      "|Kishanjiju|null|        50|  null|\n",
      "+----------+----+----------+------+\n",
      "\n"
     ]
    }
   ],
   "source": [
    "df_pyspark.na.fill(50, 'Experience').show()"
   ]
  },
  {
   "cell_type": "code",
   "execution_count": 34,
   "id": "a5f76b9a-854d-4c2b-ae70-30a37fda1e0b",
   "metadata": {},
   "outputs": [],
   "source": [
    "from pyspark.ml.feature import Imputer\n",
    "\n",
    "imputer = Imputer(\n",
    "    inputCols = ['Age', 'Experience', 'Salary'],\n",
    "    outputCols = [\"{}_imputed\".format(c) for c in ['Age', 'Experience', 'Salary']]\n",
    ").setStrategy(\"median\")"
   ]
  },
  {
   "cell_type": "code",
   "execution_count": 35,
   "id": "56e06e8d-2990-4e3f-b91d-d73218a8063f",
   "metadata": {},
   "outputs": [
    {
     "name": "stdout",
     "output_type": "stream",
     "text": [
      "+----------+----+----------+------+-----------+------------------+--------------+\n",
      "|      Name| Age|Experience|Salary|Age_imputed|Experience_imputed|Salary_imputed|\n",
      "+----------+----+----------+------+-----------+------------------+--------------+\n",
      "|  Bhadresh|  25|         4|150000|         25|                 4|        150000|\n",
      "|     Jinsi|  24|         4| 75000|         24|                 4|         75000|\n",
      "|  Rekhaben|  55|        34|     0|         55|                34|             0|\n",
      "|Premjibhai|  54|        32|     0|         54|                32|             0|\n",
      "|  Axitaben|  27|      null| 35000|         27|                 4|         35000|\n",
      "|Kishanjiju|null|      null|  null|         27|                 4|         35000|\n",
      "+----------+----+----------+------+-----------+------------------+--------------+\n",
      "\n"
     ]
    }
   ],
   "source": [
    "imputer.fit(df_pyspark).transform(df_pyspark).show()"
   ]
  },
  {
   "cell_type": "code",
   "execution_count": null,
   "id": "abbcb710-a94e-4f5b-879a-09693c77e7fd",
   "metadata": {},
   "outputs": [],
   "source": []
  }
 ],
 "metadata": {
  "kernelspec": {
   "display_name": "Python 3 (ipykernel)",
   "language": "python",
   "name": "python3"
  },
  "language_info": {
   "codemirror_mode": {
    "name": "ipython",
    "version": 3
   },
   "file_extension": ".py",
   "mimetype": "text/x-python",
   "name": "python",
   "nbconvert_exporter": "python",
   "pygments_lexer": "ipython3",
   "version": "3.10.6"
  }
 },
 "nbformat": 4,
 "nbformat_minor": 5
}
